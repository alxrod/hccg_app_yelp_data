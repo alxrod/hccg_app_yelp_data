{
 "cells": [
  {
   "cell_type": "code",
   "execution_count": 49,
   "id": "english-suspect",
   "metadata": {},
   "outputs": [],
   "source": [
    "import json\n",
    "import os\n",
    "import datetime"
   ]
  },
  {
   "cell_type": "code",
   "execution_count": 84,
   "id": "advisory-identification",
   "metadata": {},
   "outputs": [],
   "source": [
    "import numpy as np\n",
    "import pandas as pd"
   ]
  },
  {
   "cell_type": "code",
   "execution_count": 37,
   "id": "given-survivor",
   "metadata": {},
   "outputs": [],
   "source": [
    "f_names = os.listdir(\"yelp_data\")\n",
    "locations = []"
   ]
  },
  {
   "cell_type": "code",
   "execution_count": 42,
   "id": "knowing-carol",
   "metadata": {},
   "outputs": [
    {
     "data": {
      "text/plain": [
       "72"
      ]
     },
     "execution_count": 42,
     "metadata": {},
     "output_type": "execute_result"
    }
   ],
   "source": [
    "len(locations)"
   ]
  },
  {
   "cell_type": "code",
   "execution_count": 39,
   "id": "brown-tribe",
   "metadata": {},
   "outputs": [],
   "source": [
    "for f_name in f_names:\n",
    "    if \".json\" in f_name:\n",
    "        path = 'yelp_data/'+f_name\n",
    "        with open(path) as f:\n",
    "            data = json.load(f)\n",
    "            locations.append(data)"
   ]
  },
  {
   "cell_type": "code",
   "execution_count": 40,
   "id": "operating-creek",
   "metadata": {},
   "outputs": [],
   "source": [
    "reviews = []\n",
    "for loc in locations:\n",
    "    for rev in loc[\"reviews\"]:\n",
    "        reviews.append(rev)"
   ]
  },
  {
   "cell_type": "code",
   "execution_count": 41,
   "id": "positive-final",
   "metadata": {},
   "outputs": [
    {
     "data": {
      "text/plain": [
       "40433"
      ]
     },
     "execution_count": 41,
     "metadata": {},
     "output_type": "execute_result"
    }
   ],
   "source": [
    "len(reviews)"
   ]
  },
  {
   "cell_type": "code",
   "execution_count": 28,
   "id": "pressed-tennis",
   "metadata": {},
   "outputs": [],
   "source": [
    "with open('yelp_data/01960.json') as f:\n",
    "    data = json.load(f)"
   ]
  },
  {
   "cell_type": "code",
   "execution_count": 78,
   "id": "unauthorized-pillow",
   "metadata": {},
   "outputs": [],
   "source": [
    "review_ratings = np.array([])\n",
    "review_dates = np.array([])"
   ]
  },
  {
   "cell_type": "code",
   "execution_count": 47,
   "id": "curious-dependence",
   "metadata": {},
   "outputs": [
    {
     "data": {
      "text/plain": [
       "{'text': 'Checked in at 6:05 for a 6:15 reservation which was made via Yelp. \\xa0Checked on the status three times and was told each time our table was just being cleared. \\xa0We were finally seated a little before 7. \\xa0Why bother with reservations if they don&amp;#39;t actually mean anything? \\xa0Food and service were good once we finally got to our table.',\n",
       " 'rating': 2,\n",
       " 'date': '10/2/2020'}"
      ]
     },
     "execution_count": 47,
     "metadata": {},
     "output_type": "execute_result"
    }
   ],
   "source": [
    "reviews[0]"
   ]
  },
  {
   "cell_type": "code",
   "execution_count": 56,
   "id": "hollow-preference",
   "metadata": {},
   "outputs": [
    {
     "data": {
      "text/plain": [
       "array([datetime.datetime(2020, 10, 2, 0, 0)], dtype=object)"
      ]
     },
     "execution_count": 56,
     "metadata": {},
     "output_type": "execute_result"
    }
   ],
   "source": [
    "np.append(review_dates, (datetime.datetime.strptime(reviews[0][\"date\"], '%m/%d/%Y')))"
   ]
  },
  {
   "cell_type": "code",
   "execution_count": 81,
   "id": "collectible-exhibit",
   "metadata": {},
   "outputs": [],
   "source": [
    "for review in reviews:\n",
    "    review_dates = np.append(review_dates, np.array([(datetime.datetime.strptime(review[\"date\"], '%m/%d/%Y'))]))\n",
    "    review_ratings = np.append(review_ratings, np.array([review[\"rating\"]]))"
   ]
  },
  {
   "cell_type": "code",
   "execution_count": 88,
   "id": "accessory-northern",
   "metadata": {},
   "outputs": [
    {
     "data": {
      "text/plain": [
       "(40433,)"
      ]
     },
     "execution_count": 88,
     "metadata": {},
     "output_type": "execute_result"
    }
   ],
   "source": [
    "review_dates.shape"
   ]
  },
  {
   "cell_type": "code",
   "execution_count": 91,
   "id": "stunning-nirvana",
   "metadata": {},
   "outputs": [],
   "source": [
    "df = pd.DataFrame()\n",
    "df['Dates']=pd.Series(review_dates)\n",
    "df[\"Ratings\"]=pd.Series(review_ratings)"
   ]
  },
  {
   "cell_type": "code",
   "execution_count": 105,
   "id": "ultimate-italian",
   "metadata": {},
   "outputs": [],
   "source": [
    "df = df.sort_values(by=\"Dates\")"
   ]
  },
  {
   "cell_type": "code",
   "execution_count": 113,
   "id": "illegal-nerve",
   "metadata": {},
   "outputs": [],
   "source": [
    "cur_date = datetime.datetime.now()\n",
    "dates = []\n",
    "ratings = []\n",
    "sum_rating = 0\n",
    "rev_nums = 0\n",
    "for index, row in df.iterrows():\n",
    "    if cur_date.month != row[\"Dates\"].month:\n",
    "        if rev_nums != 0:\n",
    "            dates.append(row[\"Dates\"])\n",
    "            ratings.append(sum_rating/rev_nums)\n",
    "        sum_rating = 0\n",
    "        rev_nums = 0\n",
    "        cur_date = row[\"Dates\"]\n",
    "    else:\n",
    "        sum_rating += row[\"Ratings\"]\n",
    "        rev_nums+=1\n",
    "        "
   ]
  },
  {
   "cell_type": "code",
   "execution_count": 114,
   "id": "composed-delicious",
   "metadata": {},
   "outputs": [],
   "source": [
    "monthly_dates = np.array(dates)\n",
    "monthly_reviews = np.array(ratings)"
   ]
  },
  {
   "cell_type": "code",
   "execution_count": 115,
   "id": "treated-arrival",
   "metadata": {},
   "outputs": [],
   "source": [
    "df_2 = pd.DataFrame()\n",
    "df_2['Dates']=pd.Series(monthly_dates)\n",
    "df_2[\"Ratings\"]=pd.Series(monthly_reviews)"
   ]
  },
  {
   "cell_type": "code",
   "execution_count": 116,
   "id": "dutch-personal",
   "metadata": {},
   "outputs": [],
   "source": [
    "df_2.to_csv(\"ratings_over_time.csv\")"
   ]
  },
  {
   "cell_type": "code",
   "execution_count": 72,
   "id": "alive-humanity",
   "metadata": {},
   "outputs": [
    {
     "data": {
      "text/plain": [
       "array([], dtype=float64)"
      ]
     },
     "execution_count": 72,
     "metadata": {},
     "output_type": "execute_result"
    }
   ],
   "source": [
    "review_dates"
   ]
  },
  {
   "cell_type": "code",
   "execution_count": 226,
   "id": "conservative-technique",
   "metadata": {},
   "outputs": [],
   "source": [
    "f = open(\"menu_data.txt\", \"r\")\n",
    "culm = f.read()\n",
    "menu = culm.split(\"\\n\")\n",
    "counts = {}\n",
    "for i in menu:\n",
    "    counts[i] = 0"
   ]
  },
  {
   "cell_type": "code",
   "execution_count": 227,
   "id": "immediate-correspondence",
   "metadata": {},
   "outputs": [],
   "source": [
    "massive_txt = \"\"\n",
    "for review in reviews:\n",
    "    massive_txt += review[\"text\"] + \"\\n\""
   ]
  },
  {
   "cell_type": "code",
   "execution_count": 228,
   "id": "statistical-litigation",
   "metadata": {},
   "outputs": [
    {
     "data": {
      "text/plain": [
       "27073483"
      ]
     },
     "execution_count": 228,
     "metadata": {},
     "output_type": "execute_result"
    }
   ],
   "source": [
    "len(massive_txt)"
   ]
  },
  {
   "cell_type": "code",
   "execution_count": 229,
   "id": "romantic-salad",
   "metadata": {},
   "outputs": [],
   "source": [
    "all_words = massive_txt.split(\" \")"
   ]
  },
  {
   "cell_type": "code",
   "execution_count": 230,
   "id": "suffering-zealand",
   "metadata": {},
   "outputs": [],
   "source": [
    "reduced_menu = []\n",
    "for item in menu:\n",
    "    item_sep = item.split(\" \")\n",
    "    for i in item_sep:\n",
    "        if i == \"with\" or i == \"or\" or i == \"and\" or i == \"the\" or i == \"of\":\n",
    "            item_sep.remove(i)\n",
    "    reduced_menu.append(\" \".join(item_sep))"
   ]
  },
  {
   "cell_type": "code",
   "execution_count": 231,
   "id": "chubby-passing",
   "metadata": {},
   "outputs": [],
   "source": [
    "w_i = 0\n",
    "for w in all_words:\n",
    "    if w in culm:\n",
    "        approx = \" \".join(all_words[w_i:w_i+10])\n",
    "        m_i = 0\n",
    "        for item in reduced_menu:\n",
    "            if w in item:\n",
    "                count = 0\n",
    "                for l in item.split(\" \"):\n",
    "                    if l in approx:\n",
    "                        count += 1\n",
    "                        \n",
    "                if count >= 2 or count == len(item.split(\" \")):\n",
    "                    counts[menu[m_i]] += 1\n",
    "            m_i += 1\n",
    "    w_i+=1"
   ]
  },
  {
   "cell_type": "code",
   "execution_count": 232,
   "id": "centered-phase",
   "metadata": {},
   "outputs": [],
   "source": [
    "items = list(counts.keys())\n",
    "item_counts = list(counts.values())\n",
    "items = np.array(items)\n",
    "item_counts = np.array(item_counts)"
   ]
  },
  {
   "cell_type": "code",
   "execution_count": 233,
   "id": "circular-vegetation",
   "metadata": {},
   "outputs": [
    {
     "data": {
      "text/plain": [
       "(264,)"
      ]
     },
     "execution_count": 233,
     "metadata": {},
     "output_type": "execute_result"
    }
   ],
   "source": [
    "items.shape"
   ]
  },
  {
   "cell_type": "code",
   "execution_count": 239,
   "id": "recovered-kelly",
   "metadata": {},
   "outputs": [],
   "source": [
    "df_3 = pd.DataFrame()\n",
    "df_3['Menu Item']=pd.Series(items)\n",
    "df_3[\"Occurances\"]=pd.Series(item_counts)\n",
    "df_3.sort_values(by=\"Occurances\", ascending=False).to_csv(\"popular_menu_items.csv\")"
   ]
  },
  {
   "cell_type": "code",
   "execution_count": 189,
   "id": "italic-identification",
   "metadata": {},
   "outputs": [
    {
     "data": {
      "text/plain": [
       "(1,)"
      ]
     },
     "execution_count": 189,
     "metadata": {},
     "output_type": "execute_result"
    }
   ],
   "source": [
    "items.shape"
   ]
  }
 ],
 "metadata": {
  "kernelspec": {
   "display_name": "Python 3",
   "language": "python",
   "name": "python3"
  },
  "language_info": {
   "codemirror_mode": {
    "name": "ipython",
    "version": 3
   },
   "file_extension": ".py",
   "mimetype": "text/x-python",
   "name": "python",
   "nbconvert_exporter": "python",
   "pygments_lexer": "ipython3",
   "version": "3.8.2"
  }
 },
 "nbformat": 4,
 "nbformat_minor": 5
}
